{
 "cells": [
  {
   "cell_type": "markdown",
   "metadata": {},
   "source": [
    "Hello World!\n",
    "\n",
    "Welcome to my personal space. Created with [Jupyter](https://jupyter.org/) and hosted on [Github](www.github.com).\n",
    "\n",
    "Check out my latest projects below:"
   ]
  },
  {
   "cell_type": "markdown",
   "metadata": {},
   "source": [
    "> [Predicting Bank Term Deposit Prediction using PySpark](https://github.com/AkibMashrur/Term-Deposit-Prediction)\n",
    "\n",
    "> [Tumor Cell State Identification](https://github.com/AkibMashrur/Tumor-cell-state-identification)"
   ]
  },
  {
   "cell_type": "code",
   "execution_count": null,
   "metadata": {},
   "outputs": [],
   "source": []
  }
 ],
 "metadata": {
  "kernelspec": {
   "display_name": "Python 3",
   "language": "python",
   "name": "python3"
  },
  "language_info": {
   "codemirror_mode": {
    "name": "ipython",
    "version": 3
   },
   "file_extension": ".py",
   "mimetype": "text/x-python",
   "name": "python",
   "nbconvert_exporter": "python",
   "pygments_lexer": "ipython3",
   "version": "3.7.1"
  }
 },
 "nbformat": 4,
 "nbformat_minor": 2
}
